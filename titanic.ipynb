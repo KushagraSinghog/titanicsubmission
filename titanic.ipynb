{
 "cells": [
  {
   "cell_type": "code",
   "execution_count": null,
   "id": "4ef35bf4",
   "metadata": {},
   "outputs": [],
   "source": [
    "import pandas as pd \n",
    "import numpy as np \n",
    "import matplotlib_inline \n",
    "import matplotlib.pyplot as plt \n",
    "\n",
    "test_set=pd.read_csv('test.csv') \n",
    "train_set=pd.read_csv('train.csv') \n",
    "gender=pd.read_csv('gender_submission.csv') "
   ]
  },
  {
   "cell_type": "code",
   "execution_count": null,
   "id": "235eaf71",
   "metadata": {},
   "outputs": [
    {
     "ename": "NameError",
     "evalue": "name 'test_set' is not defined",
     "output_type": "error",
     "traceback": [
      "\u001b[1;31m---------------------------------------------------------------------------\u001b[0m",
      "\u001b[1;31mNameError\u001b[0m                                 Traceback (most recent call last)",
      "Cell \u001b[1;32mIn[3], line 1\u001b[0m\n\u001b[1;32m----> 1\u001b[0m \u001b[43mtest_set\u001b[49m\u001b[38;5;241m.\u001b[39mhead()\n\u001b[0;32m      2\u001b[0m test_set\u001b[38;5;241m.\u001b[39minfo()  \n\u001b[0;32m      4\u001b[0m \u001b[38;5;66;03m#print(train_set.head(40)) \u001b[39;00m\n\u001b[0;32m      5\u001b[0m \u001b[38;5;66;03m#print(train_set.info()) \u001b[39;00m\n\u001b[0;32m      6\u001b[0m \n\u001b[1;32m   (...)\u001b[0m\n\u001b[0;32m     18\u001b[0m \n\u001b[0;32m     19\u001b[0m \u001b[38;5;66;03m#print(train_set.isnull().sum()) \u001b[39;00m\n",
      "\u001b[1;31mNameError\u001b[0m: name 'test_set' is not defined"
     ]
    }
   ],
   "source": [
    "print(test_set.head())\n",
    "print(test_set.info())  \n",
    "\n",
    "#print(train_set.head(40)) \n",
    "#print(train_set.info()) \n",
    "\n",
    "#print(gender.head(40)) \n",
    "#print(gender.info()) \n",
    "\n",
    "#train_set.hist() \n",
    "#plt.show()  \n",
    "\n",
    "#test_set.hist() \n",
    "#plt.show() \n",
    "\n",
    "#gender.hist() \n",
    "#plt.show() \n",
    "\n",
    "#print(train_set.isnull().sum()) \n",
    "print(test_set.isnull().sum()) "
   ]
  },
  {
   "cell_type": "code",
   "execution_count": null,
   "id": "0fe7c4ff",
   "metadata": {},
   "outputs": [],
   "source": [
    "train_corr=train_set.select_dtypes(include=[np.number]) \n",
    "corr_matrix=train_corr.corr() \n",
    "print(corr_matrix[\"Survived\"].sort_values(ascending=False)) "
   ]
  },
  {
   "cell_type": "code",
   "execution_count": null,
   "id": "a1acd518",
   "metadata": {},
   "outputs": [],
   "source": [
    "train_set_labels=train_set[\"Survived\"]"
   ]
  },
  {
   "cell_type": "code",
   "execution_count": null,
   "id": "f184f1c8",
   "metadata": {},
   "outputs": [],
   "source": [
    "from sklearn.impute import SimpleImputer \n",
    "imputer=SimpleImputer(strategy=\"median\") \n",
    "train_num=train_set.drop([\"Survived\", \"Sex\", \"Embarked\", \"Ticket\", \"Name\", \"Cabin\"], axis=1) \n",
    "imputer.fit(train_num)  \n",
    "print(imputer.statistics_)\n",
    "x=imputer.transform(train_num)  \n",
    "train_num_tr=pd.DataFrame(x, columns=train_num.columns, index=train_num.index) \n",
    "print(train_num_tr) \n"
   ]
  },
  {
   "cell_type": "code",
   "execution_count": null,
   "id": "c40edd11",
   "metadata": {},
   "outputs": [],
   "source": [
    "from sklearn.preprocessing import OrdinalEncoder \n",
    "oe=OrdinalEncoder() \n",
    "train_set[\"Embarked\"].fillna(train_set[\"Embarked\"].mode()[0], inplace=True)\n",
    "train_cat=train_set[[\"Sex\", \"Embarked\"]] \n",
    "train_cat_en=oe.fit_transform(train_cat) \n",
    "print(train_cat_en[:40]) \n",
    "train_cat_tr=pd.DataFrame(train_cat_en, columns=[\"Sex\", \"Embarked\"], index=train_set.index) \n",
    "print(train_cat_tr) "
   ]
  },
  {
   "cell_type": "code",
   "execution_count": null,
   "id": "5bf8942f",
   "metadata": {},
   "outputs": [],
   "source": [
    "train_set_prepared=pd.concat([train_num_tr, train_cat_tr], axis=1) \n",
    "print(train_set_prepared.head(10)) "
   ]
  },
  {
   "cell_type": "code",
   "execution_count": null,
   "id": "d73f8ef9",
   "metadata": {},
   "outputs": [],
   "source": [
    "from sklearn.model_selection import cross_val_predict\n",
    "from lightgbm import LGBMClassifier \n",
    "lgbm=LGBMClassifier(n_estimators=100, learning_rate=0.01, max_depth=5, random_state=42) \n",
    "lgbm.fit(train_set_prepared, train_set_labels) \n",
    "lgbm_pred=cross_val_predict(lgbm, train_set_prepared, train_set_labels, cv=5) \n",
    "print(\"predictions= \", lgbm_pred[:20]) \n",
    "print(\"labels= \", list(train_set_labels[:20]))  "
   ]
  },
  {
   "cell_type": "code",
   "execution_count": null,
   "id": "131a82bb",
   "metadata": {},
   "outputs": [],
   "source": [
    "from sklearn.metrics import accuracy_score \n",
    "acc=accuracy_score(train_set_labels, lgbm_pred)  \n",
    "print(acc) "
   ]
  },
  {
   "cell_type": "code",
   "execution_count": null,
   "id": "93a8bcaa",
   "metadata": {},
   "outputs": [],
   "source": [
    "test_corr=test_set.select_dtypes(include=[np.number]) \n",
    "corr2_matrix=test_corr.corr() \n",
    "print(corr2_matrix[\"Survived\"].sort_values(ascending=False)) "
   ]
  },
  {
   "cell_type": "code",
   "execution_count": null,
   "id": "3fa3e240",
   "metadata": {},
   "outputs": [],
   "source": [
    "test_num=test_set.drop([\"Sex\", \"Embarked\", \"Ticket\", \"Name\", \"Cabin\"], axis=1) \n",
    "print(imputer.statistics_)\n",
    "y=imputer.transform(test_num)  \n",
    "test_num_tr=pd.DataFrame(y, columns=test_num.columns, index=test_num.index) \n",
    "print(test_num_tr) "
   ]
  },
  {
   "cell_type": "code",
   "execution_count": null,
   "id": "d3277f4a",
   "metadata": {},
   "outputs": [],
   "source": [
    "test_set[\"Embarked\"].fillna(test_set[\"Embarked\"].mode()[0], inplace=True)\n",
    "test_cat=test_set[[\"Sex\", \"Embarked\"]] \n",
    "test_cat_en=oe.transform(test_cat) \n",
    "print(test_cat_en[:40]) \n",
    "test_cat_tr=pd.DataFrame(test_cat_en, columns=[\"Sex\", \"Embarked\"], index=test_set.index) \n",
    "print(train_cat_tr) "
   ]
  },
  {
   "cell_type": "code",
   "execution_count": null,
   "id": "87d3c686",
   "metadata": {},
   "outputs": [],
   "source": [
    "test_set_prepared=pd.concat([test_num_tr, test_cat_tr], axis=1) \n",
    "print(test_set_prepared.head(10)) "
   ]
  },
  {
   "cell_type": "code",
   "execution_count": null,
   "id": "76620409",
   "metadata": {},
   "outputs": [],
   "source": [
    "test_pred=lgbm.predict(test_set_prepared)  "
   ]
  },
  {
   "cell_type": "code",
   "execution_count": null,
   "id": "278bf60b",
   "metadata": {},
   "outputs": [],
   "source": [
    "final=pd.DataFrame( {\"PassengerId\": test_set[\"PassengerId\"], \"Survived\": test_pred} ) \n",
    "final.to_csv(\"titanic_final_submission.csv\", index=False) "
   ]
  }
 ],
 "metadata": {
  "kernelspec": {
   "display_name": "Python 3",
   "language": "python",
   "name": "python3"
  },
  "language_info": {
   "codemirror_mode": {
    "name": "ipython",
    "version": 3
   },
   "file_extension": ".py",
   "mimetype": "text/x-python",
   "name": "python",
   "nbconvert_exporter": "python",
   "pygments_lexer": "ipython3",
   "version": "3.12.3"
  }
 },
 "nbformat": 4,
 "nbformat_minor": 5
}
